{
  "metadata": {
    "kernelspec": {
      "name": "python",
      "display_name": "Python (Pyodide)",
      "language": "python"
    },
    "language_info": {
      "codemirror_mode": {
        "name": "python",
        "version": 3
      },
      "file_extension": ".py",
      "mimetype": "text/x-python",
      "name": "python",
      "nbconvert_exporter": "python",
      "pygments_lexer": "ipython3",
      "version": "3.8"
    }
  },
  "nbformat_minor": 5,
  "nbformat": 4,
  "cells": [
    {
      "id": "ab359fa7-8105-4263-90b4-ea46214c572d",
      "cell_type": "code",
      "source": "print('Electricity bill generator')\nut=int(input('Enter the units of electricity consumed'))\nif ut<100 or ut==100:\n    print('No bill')\nelif ut>100 and ut<500:\n    print('Bill is Rs. 300')\nelif ut==500:\n    print('Bill is Rs. 300')\nelif ut>500 and ut<700:\n    print('Bill is Rs. 500')\nelif ut==700:\n    print('Bill is Rs. 500')\nelse:\n    print('Bill is Rs. 800')",
      "metadata": {
        "trusted": true
      },
      "outputs": [
        {
          "name": "stdout",
          "output_type": "stream",
          "text": "Electricity bill generator\n"
        },
        {
          "output_type": "stream",
          "name": "stdin",
          "text": "Enter the units of electricity consumed 560\n"
        },
        {
          "name": "stdout",
          "output_type": "stream",
          "text": "Bill is Rs. 500\n"
        }
      ],
      "execution_count": 1
    },
    {
      "id": "89cc15da-ff4a-4e1a-9d8f-c4b351fb5fed",
      "cell_type": "code",
      "source": "from datetime import date\nprint('Library fine calculator')\nfday=input('Enter the date you issued book on')\ntoday = date.today()\ndays= today-fday \nif days==0 or days<=7:\n    print('No fine')\nelif days>7 and days<10:\n    print('Fine to be paid is Rs.10')\nelif days>10:\n    print('Fine to be paid is Rs.50')\nelse:\n    print('Invalid input')",
      "metadata": {
        "trusted": true
      },
      "outputs": [
        {
          "name": "stdout",
          "output_type": "stream",
          "text": "Library fine calculator\n"
        }
      ],
      "execution_count": null
    },
    {
      "id": "1110909b-fe93-4e51-8053-2a8e76c3d2f4",
      "cell_type": "code",
      "source": "",
      "metadata": {
        "trusted": true
      },
      "outputs": [],
      "execution_count": null
    }
  ]
}