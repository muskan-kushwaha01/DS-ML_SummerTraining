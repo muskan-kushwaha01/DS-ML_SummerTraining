{
  "metadata": {
    "kernelspec": {
      "name": "python",
      "display_name": "Python (Pyodide)",
      "language": "python"
    },
    "language_info": {
      "codemirror_mode": {
        "name": "python",
        "version": 3
      },
      "file_extension": ".py",
      "mimetype": "text/x-python",
      "name": "python",
      "nbconvert_exporter": "python",
      "pygments_lexer": "ipython3",
      "version": "3.8"
    }
  },
  "nbformat_minor": 5,
  "nbformat": 4,
  "cells": [
    {
      "id": "9776216c-7dc8-4098-9a19-85125bdf2a92",
      "cell_type": "code",
      "source": "l=[1,2.3,\"hii\"]\nprint(l[2][:4])\n",
      "metadata": {},
      "outputs": [
        {
          "name": "stdout",
          "output_type": "stream",
          "text": "hii\n"
        }
      ],
      "execution_count": 3
    },
    {
      "id": "0b05c638-86d7-43ff-814f-6214c6838e9f",
      "cell_type": "code",
      "source": "a=[[],[[0,[0,[34,\"ansrk\"]]]]]\nprint(a[1][0][1][1][1][4::-1])\n",
      "metadata": {},
      "outputs": [
        {
          "name": "stdout",
          "output_type": "stream",
          "text": "krsna\n"
        }
      ],
      "execution_count": 52
    },
    {
      "id": "e909dfa6-9c61-4962-b54c-770cf51e6370",
      "cell_type": "code",
      "source": "b=[[23,[0,0,[[[0,0,[[34,56,89]]]]]]]]\nprint(b[0][1][2][0][0][2][0][1])",
      "metadata": {},
      "outputs": [
        {
          "name": "stdout",
          "output_type": "stream",
          "text": "56\n"
        }
      ],
      "execution_count": 44
    },
    {
      "id": "aa8c3da2-f7c2-4908-855c-10e84725e1cb",
      "cell_type": "code",
      "source": "c=[\"Syntax\",\"found\",[[[[34,43,43]],[0,[\"Nice\",\"error\"]]]]]\nprint(c[2][0][1][1][1])",
      "metadata": {},
      "outputs": [
        {
          "name": "stdout",
          "output_type": "stream",
          "text": "error\n"
        }
      ],
      "execution_count": 50
    },
    {
      "id": "bec63acf-5bbc-4085-bc36-9aa1e1bd573b",
      "cell_type": "code",
      "source": "dir('list')",
      "metadata": {},
      "outputs": [
        {
          "data": {
            "text/plain": [
              "['__add__',\n",
              " '__class__',\n",
              " '__contains__',\n",
              " '__delattr__',\n",
              " '__dir__',\n",
              " '__doc__',\n",
              " '__eq__',\n",
              " '__format__',\n",
              " '__ge__',\n",
              " '__getattribute__',\n",
              " '__getitem__',\n",
              " '__getnewargs__',\n",
              " '__getstate__',\n",
              " '__gt__',\n",
              " '__hash__',\n",
              " '__init__',\n",
              " '__init_subclass__',\n",
              " '__iter__',\n",
              " '__le__',\n",
              " '__len__',\n",
              " '__lt__',\n",
              " '__mod__',\n",
              " '__mul__',\n",
              " '__ne__',\n",
              " '__new__',\n",
              " '__reduce__',\n",
              " '__reduce_ex__',\n",
              " '__repr__',\n",
              " '__rmod__',\n",
              " '__rmul__',\n",
              " '__setattr__',\n",
              " '__sizeof__',\n",
              " '__str__',\n",
              " '__subclasshook__',\n",
              " 'capitalize',\n",
              " 'casefold',\n",
              " 'center',\n",
              " 'count',\n",
              " 'encode',\n",
              " 'endswith',\n",
              " 'expandtabs',\n",
              " 'find',\n",
              " 'format',\n",
              " 'format_map',\n",
              " 'index',\n",
              " 'isalnum',\n",
              " 'isalpha',\n",
              " 'isascii',\n",
              " 'isdecimal',\n",
              " 'isdigit',\n",
              " 'isidentifier',\n",
              " 'islower',\n",
              " 'isnumeric',\n",
              " 'isprintable',\n",
              " 'isspace',\n",
              " 'istitle',\n",
              " 'isupper',\n",
              " 'join',\n",
              " 'ljust',\n",
              " 'lower',\n",
              " 'lstrip',\n",
              " 'maketrans',\n",
              " 'partition',\n",
              " 'removeprefix',\n",
              " 'removesuffix',\n",
              " 'replace',\n",
              " 'rfind',\n",
              " 'rindex',\n",
              " 'rjust',\n",
              " 'rpartition',\n",
              " 'rsplit',\n",
              " 'rstrip',\n",
              " 'split',\n",
              " 'splitlines',\n",
              " 'startswith',\n",
              " 'strip',\n",
              " 'swapcase',\n",
              " 'title',\n",
              " 'translate',\n",
              " 'upper',\n",
              " 'zfill']"
            ]
          },
          "execution_count": 54,
          "metadata": {},
          "output_type": "execute_result"
        }
      ],
      "execution_count": 54
    },
    {
      "id": "7246bc73-d2fd-45e8-a626-477d9fd17c0e",
      "cell_type": "code",
      "source": "a=[1,2,3,4,5]\nsum=0\nfor i in a:\n    sum += i\nprint(\"Sum: \",sum)",
      "metadata": {},
      "outputs": [
        {
          "name": "stdout",
          "output_type": "stream",
          "text": "Sum:  15\n"
        }
      ],
      "execution_count": 56
    },
    {
      "id": "1e0f30ba-6f69-4c7b-a0fe-dbfaffae8f12",
      "cell_type": "code",
      "source": "d=[45,75,[[]],[]]\n\nfor i in d: \n    if type(i)==list:\n        i.append(\"Raman\")\n       # if len(i) !=0:\n        if type(i)==list:  \n                j.append(\"Raman\")\n        #i.append(\"Raman\")\nprint(d)",
      "metadata": {},
      "outputs": [
        {
          "name": "stdout",
          "output_type": "stream",
          "text": "[45, 75, [[], 'Raman'], ['Raman']]\n"
        }
      ],
      "execution_count": 112
    },
    {
      "id": "2bdb5b1c-d514-4afc-bae2-f4be93399e6c",
      "cell_type": "code",
      "source": "str1='abcdefghijklmnopqrstuvwxyz'\nstr = \"ghjurn\"\n\nfor i in str:\n    if i in str1:\n        print( i,': ', str1.index(i)+1)\n",
      "metadata": {},
      "outputs": [
        {
          "name": "stdout",
          "output_type": "stream",
          "text": "g :  7\n,h :  8\n,j :  10\n,u :  21\n,r :  18\n,n :  14\n"
        }
      ],
      "execution_count": 118
    },
    {
      "id": "1cbf42aa-b520-436d-8ab2-cf0f502748c8",
      "cell_type": "code",
      "source": "num=int(input(\"Enter the number: \"))\n\nfor i in range(1,11):\n    print( num,' X ',i,' = ', i*num)\n\n    ",
      "metadata": {},
      "outputs": [
        {
          "name": "stdin",
          "output_type": "stream",
          "text": "Enter the number:  2\n"
        },
        {
          "name": "stdout",
          "output_type": "stream",
          "text": "2  X  1  =  2\n,2  X  2  =  4\n,2  X  3  =  6\n,2  X  4  =  8\n,2  X  5  =  10\n,2  X  6  =  12\n,2  X  7  =  14\n,2  X  8  =  16\n,2  X  9  =  18\n,2  X  10  =  20\n"
        }
      ],
      "execution_count": 114
    },
    {
      "id": "eb2377a0-1e4b-4e05-8984-67898bdbe373",
      "cell_type": "code",
      "source": "print(\"\\tCALCULATOR\")\n\nnum1=int(input(\"Enter 1st number:\"))\nnum2=int(input(\"Enter 2nd number:\"))\nprint(\"Addition: +\\nSubtraction: -\\nMultiplication: *\\nDivision: /\")\nop= input(\"Enter the operator: \")\n\nif(op == '+'):\n    print(\"Answer: \",num1 +num2)\nelif(op == '-'):\n    print(\"Answer: \",num1 - num2)\nelif(op == '*'):\n    print(\"Answer: \",num1 * num2)\nelif(op == '/'):\n    if(num2==0):\n        print(\"Cannot divide by 0\")\n    else:\n        print(\"Answer: \",num1 / num2)\nelse:\n    print(\"Invalid Operator\")",
      "metadata": {},
      "outputs": [],
      "execution_count": null
    },
    {
      "id": "6c36d945-f86b-4345-8a8f-4f29646d58a7",
      "cell_type": "code",
      "source": "amt = 10000\npin=1234\nprint(\"\\t\\t\\t\\t\\t\\t\\t Welcome To AXIS Bank\")\n\nif 'card' == input(\"Insert your card: \") :\n    print(\"Welcome \")\n    if pin== int(input(\"Enter your pin: \")):\n        print(\"1. Check Balance \\n 2. Cash Withdraw \\n 3. Deposit Cash\")\n        if 1==int(input(\"Enter Option: \")):\n            print(\"Your Bank Balance is: \",amt)\n        elif 2==int(input(\"Enter Option: \")):\n            wtd = int(input(\"Enter the amount you want to withdraw: \"))\n            print(\" Amount Withdrwan! \\n Your current balance is:\",amt-wtd)\n        elif 3==int(input(\"Enter Option: \")):\n            dpt = int(input(\"Enter the amount you want to deposit: \"))\n            print(\"Amount Deposited! \\n Your current balance is:\",amt+dpt)\n        else:\n            print(\"Invalid Option\")\n    else:\n        print(\"Invalid pin\")\nelse:\n    print(\"Invalid Card\")",
      "metadata": {},
      "outputs": [],
      "execution_count": null
    },
    {
      "id": "14823f1d-3bda-41d3-bc60-df2cfbc5c592",
      "cell_type": "code",
      "source": " marks = float(input(\"Enter your marks (0 - 100): \"))\n    \nif marks >= 90 and marks <= 100:\n    grade='A'\nelif marks >= 75 and marks < 90:\n    grade='B'\nelif marks >= 50 and marks < 75:\n    grade='C'\nelif marks >= 0 and marks < 50:\n    grade='D'\nelse:\n    print( 'Invalid marks')\n\nprint(\"Your Grade is:\", grade)\n\n       ",
      "metadata": {
        "trusted": true
      },
      "outputs": [
        {
          "output_type": "stream",
          "name": "stdin",
          "text": "Enter your marks (0 - 100):  67\n"
        },
        {
          "name": "stdout",
          "output_type": "stream",
          "text": "Your Grade is: C\n"
        }
      ],
      "execution_count": 2
    },
    {
      "id": "0a067d64-bae4-4f23-a02d-ec6d5e6f3e95",
      "cell_type": "code",
      "source": "age = int(input(\"Enter your age: \"))\n\nif age >= 21:\n    print(\"You are eligible for driving, voting, and alcohol consumption.\")\nelif age >= 18:\n    print(\"You are eligible for driving and voting, but not alcohol consumption.\")\nelse:\n    print(\"You are not eligible for driving, voting, or alcohol consumption.\")\n",
      "metadata": {
        "trusted": true
      },
      "outputs": [
        {
          "output_type": "stream",
          "name": "stdin",
          "text": "Enter your age:  19\n"
        },
        {
          "name": "stdout",
          "output_type": "stream",
          "text": "You are eligible for driving and voting, but not alcohol consumption.\n"
        }
      ],
      "execution_count": 3
    },
    {
      "id": "dca6a412-9a9d-4b68-aa89-0e499c2c682f",
      "cell_type": "code",
      "source": "",
      "metadata": {
        "trusted": true
      },
      "outputs": [],
      "execution_count": null
    }
  ]
}