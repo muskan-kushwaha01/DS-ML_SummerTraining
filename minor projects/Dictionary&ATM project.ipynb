{
 "cells": [
  {
   "cell_type": "code",
   "execution_count": 12,
   "id": "4e432473-58d3-4eda-b958-5b05ea62e37e",
   "metadata": {},
   "outputs": [
    {
     "name": "stdout",
     "output_type": "stream",
     "text": [
      "1. Add a record\n",
      "2. update a record\n",
      "3. display highest,Lowest and Average marks\n",
      "4. Show all records\n"
     ]
    },
    {
     "name": "stdin",
     "output_type": "stream",
     "text": [
      "Enter your option:  3\n"
     ]
    },
    {
     "name": "stdout",
     "output_type": "stream",
     "text": [
      "Highest Marks: 49\n",
      "Lowest Marks: 46\n",
      "Average Marks: 47.5\n"
     ]
    },
    {
     "name": "stdin",
     "output_type": "stream",
     "text": [
      "Want to continue (Y/N):  N\n"
     ]
    }
   ],
   "source": [
    "dict={\"muskan\":46,\"rudransh\":49}\n",
    "con='Y'\n",
    "while(con=='Y'):\n",
    "    print(\"1. Add a record\\n2. update a record\\n3. display highest,Lowest and Average marks\\n4. Show all records\")\n",
    "    ch=int(input(\"Enter your option: \"))\n",
    "    if ch==1:\n",
    "        name=input(\"Enter Name: \")\n",
    "        marks=float(input(\"Enter Makrs:\"))\n",
    "        dict.update({name:marks})\n",
    "        print(\"Record Added!\")\n",
    "    \n",
    "    elif ch==2:\n",
    "        name=input(\"Enter Name whose marks you want to update: \")\n",
    "        marks=float(input(\"Enter updated Makrs:\"))\n",
    "        dict.update({name:marks})\n",
    "        print(\"Record Updated!\")\n",
    "    elif ch==3:\n",
    "        min=50\n",
    "        max=sum=0\n",
    "        num=dict.values()\n",
    "        for i in num:\n",
    "            if min>i:\n",
    "                min=i\n",
    "            if max<i:\n",
    "                max=i\n",
    "        for i in num:\n",
    "            sum +=i\n",
    "        print(f\"Highest Marks: {max}\")\n",
    "        print(f\"Lowest Marks: {min}\")\n",
    "        print(f\"Average Marks: {sum/len(num)}\") \n",
    "    elif ch==4:\n",
    "        print(dict.items())\n",
    "    else:\n",
    "        print(\"Invalid Option\")\n",
    "\n",
    "    con=input(\"Want to continue (Y/N): \")\n"
   ]
  },
  {
   "cell_type": "code",
   "execution_count": null,
   "id": "c089bbc5-9fb6-4fbd-b1bc-e290e639d7d8",
   "metadata": {},
   "outputs": [],
   "source": [
    "amt= 10000\n",
    "pin = \"123\"\n",
    "\n",
    "def bal(amt):\n",
    "    print(f\"Your Current Balance: {amt}\")\n",
    "\n",
    "def withdraw(amt):\n",
    "    user_amt=int(input(\"Enter the amount to withdraw: \"))\n",
    "    print(\"Withdrawn Successfully !\")\n",
    "    print(f\" Your current Balance: {amt-user_amt}\")\n",
    "\n",
    "def deposit(amt):\n",
    "    user_amt=int(input(\"Enter the amount to Deposit: \"))\n",
    "    print(\"Deposited Successfully !\")\n",
    "    print(f\" Your current Balance: {amt+user_amt}\")\n",
    "\n",
    "print(\"\\t\\t\\t\\t\\t\\t Welcome To AXIS Bank\")\n",
    "if \"card\" == input(\"Insert your Card: \"):\n",
    "    print(\"Welcome\")\n",
    "    if pin == input(\"Enter Pin:\"):\n",
    "        print(\"Press: \\n\\t\\t\\t\\t\\t\\t 1. Check Balance\\n\\t\\t\\t\\t\\t\\t 2.Withdraw Amount\\n\\t\\t\\t\\t\\t\\t 3. Deposit Amount\")\n",
    "        ch = int(input(\"Enter your choice: \"))\n",
    "        if ch==1:\n",
    "            bal(amt)\n",
    "        elif ch==2:\n",
    "            withdraw(amt)\n",
    "        elif ch==3:\n",
    "            deposit(amt)\n",
    "        else:\n",
    "            print(\"Invalid Option\")\n",
    "    else:\n",
    "        print(\"Wrong Pin\")\n",
    "else:\n",
    "    print(\"Invalid Card\")"
   ]
  },
  {
   "cell_type": "code",
   "execution_count": 6,
   "id": "042760ef-2994-4456-8f5f-f4c3051a448d",
   "metadata": {},
   "outputs": [
    {
     "name": "stdin",
     "output_type": "stream",
     "text": [
      "Insert your card:  card\n"
     ]
    },
    {
     "name": "stdout",
     "output_type": "stream",
     "text": [
      "\t\t\t\t\t\t Welcome To AXIS Bank\n",
      "Welcome\n"
     ]
    },
    {
     "name": "stdin",
     "output_type": "stream",
     "text": [
      "Enter Pin 123\n"
     ]
    },
    {
     "name": "stdout",
     "output_type": "stream",
     "text": [
      "Press: \n",
      "\t\t\t\t\t\t 1. Check Balance\n",
      "\t\t\t\t\t\t 2.Withdraw Amount\n",
      "\t\t\t\t\t\t 3. Deposit Amount\n"
     ]
    },
    {
     "name": "stdin",
     "output_type": "stream",
     "text": [
      "Enter your choice:  3\n",
      "Enter the amount to Deposit:  4500\n"
     ]
    },
    {
     "name": "stdout",
     "output_type": "stream",
     "text": [
      "Deposited Successfully !\n",
      " Your current Balance: 14500\n"
     ]
    }
   ],
   "source": [
    "class ATM:\n",
    "    def __init__(self,card,pin):\n",
    "        self.card=card\n",
    "        self.pin=pin\n",
    "        \n",
    "    def bal(self,amt):\n",
    "        self.amt=amt\n",
    "        print(f\"Your Current Balance: {self.amt}\")\n",
    "    \n",
    "    def withdraw(self,amt):\n",
    "        self.amt=amt\n",
    "        user_amt=int(input(\"Enter the amount to withdraw: \"))\n",
    "        print(\"Withdrawn Successfully !\")\n",
    "        print(f\" Your current Balance: {self.amt-user_amt}\")\n",
    "    \n",
    "    def deposit(self,amt):\n",
    "        self.amt=amt\n",
    "        user_amt=int(input(\"Enter the amount to Deposit: \"))\n",
    "        print(\"Deposited Successfully !\")\n",
    "        print(f\" Your current Balance: {self.amt+user_amt}\")\n",
    "        \n",
    "set_pin = \"123\"\n",
    "user_card=input(\"Insert your card: \")\n",
    "\n",
    "print(\"\\t\\t\\t\\t\\t\\t Welcome To AXIS Bank\")\n",
    "if \"card\" == user_card:\n",
    "    print(\"Welcome\")\n",
    "    user_pin=input(\"Enter Pin\")\n",
    "    if set_pin == user_pin:\n",
    "        print(\"Press: \\n\\t\\t\\t\\t\\t\\t 1. Check Balance\\n\\t\\t\\t\\t\\t\\t 2.Withdraw Amount\\n\\t\\t\\t\\t\\t\\t 3. Deposit Amount\")\n",
    "        ch = int(input(\"Enter your choice: \"))\n",
    "        obj=ATM(user_card,user_pin)\n",
    "        if ch==1:\n",
    "            obj.bal(10000)\n",
    "        elif ch==2:\n",
    "            obj.withdraw(10000)\n",
    "        elif ch==3:\n",
    "            obj.deposit(10000)\n",
    "        else:\n",
    "            print(\"Invalid Option\")\n",
    "    else:\n",
    "        print(\"Wrong Pin\")\n",
    "else:\n",
    "    print(\"Invalid Card\")\n",
    "\n"
   ]
  },
  {
   "cell_type": "code",
   "execution_count": null,
   "id": "201a7142-ed87-4125-9634-65e165634ad5",
   "metadata": {},
   "outputs": [],
   "source": []
  }
 ],
 "metadata": {
  "kernelspec": {
   "display_name": "Python 3 (ipykernel)",
   "language": "python",
   "name": "python3"
  },
  "language_info": {
   "codemirror_mode": {
    "name": "ipython",
    "version": 3
   },
   "file_extension": ".py",
   "mimetype": "text/x-python",
   "name": "python",
   "nbconvert_exporter": "python",
   "pygments_lexer": "ipython3",
   "version": "3.12.4"
  }
 },
 "nbformat": 4,
 "nbformat_minor": 5
}
