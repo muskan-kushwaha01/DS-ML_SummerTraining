{
 "cells": [
  {
   "cell_type": "code",
   "execution_count": 3,
   "id": "9776216c-7dc8-4098-9a19-85125bdf2a92",
   "metadata": {},
   "outputs": [
    {
     "name": "stdout",
     "output_type": "stream",
     "text": [
      "hii\n"
     ]
    }
   ],
   "source": [
    "l=[1,2.3,\"hii\"]\n",
    "print(l[2][:4])\n"
   ]
  },
  {
   "cell_type": "code",
   "execution_count": 52,
   "id": "0b05c638-86d7-43ff-814f-6214c6838e9f",
   "metadata": {},
   "outputs": [
    {
     "name": "stdout",
     "output_type": "stream",
     "text": [
      "krsna\n"
     ]
    }
   ],
   "source": [
    "a=[[],[[0,[0,[34,\"ansrk\"]]]]]\n",
    "print(a[1][0][1][1][1][4::-1])\n"
   ]
  },
  {
   "cell_type": "code",
   "execution_count": 44,
   "id": "e909dfa6-9c61-4962-b54c-770cf51e6370",
   "metadata": {},
   "outputs": [
    {
     "name": "stdout",
     "output_type": "stream",
     "text": [
      "56\n"
     ]
    }
   ],
   "source": [
    "b=[[23,[0,0,[[[0,0,[[34,56,89]]]]]]]]\n",
    "print(b[0][1][2][0][0][2][0][1])"
   ]
  },
  {
   "cell_type": "code",
   "execution_count": 50,
   "id": "aa8c3da2-f7c2-4908-855c-10e84725e1cb",
   "metadata": {},
   "outputs": [
    {
     "name": "stdout",
     "output_type": "stream",
     "text": [
      "error\n"
     ]
    }
   ],
   "source": [
    "c=[\"Syntax\",\"found\",[[[[34,43,43]],[0,[\"Nice\",\"error\"]]]]]\n",
    "print(c[2][0][1][1][1])"
   ]
  },
  {
   "cell_type": "code",
   "execution_count": 54,
   "id": "bec63acf-5bbc-4085-bc36-9aa1e1bd573b",
   "metadata": {},
   "outputs": [
    {
     "data": {
      "text/plain": [
       "['__add__',\n",
       " '__class__',\n",
       " '__contains__',\n",
       " '__delattr__',\n",
       " '__dir__',\n",
       " '__doc__',\n",
       " '__eq__',\n",
       " '__format__',\n",
       " '__ge__',\n",
       " '__getattribute__',\n",
       " '__getitem__',\n",
       " '__getnewargs__',\n",
       " '__getstate__',\n",
       " '__gt__',\n",
       " '__hash__',\n",
       " '__init__',\n",
       " '__init_subclass__',\n",
       " '__iter__',\n",
       " '__le__',\n",
       " '__len__',\n",
       " '__lt__',\n",
       " '__mod__',\n",
       " '__mul__',\n",
       " '__ne__',\n",
       " '__new__',\n",
       " '__reduce__',\n",
       " '__reduce_ex__',\n",
       " '__repr__',\n",
       " '__rmod__',\n",
       " '__rmul__',\n",
       " '__setattr__',\n",
       " '__sizeof__',\n",
       " '__str__',\n",
       " '__subclasshook__',\n",
       " 'capitalize',\n",
       " 'casefold',\n",
       " 'center',\n",
       " 'count',\n",
       " 'encode',\n",
       " 'endswith',\n",
       " 'expandtabs',\n",
       " 'find',\n",
       " 'format',\n",
       " 'format_map',\n",
       " 'index',\n",
       " 'isalnum',\n",
       " 'isalpha',\n",
       " 'isascii',\n",
       " 'isdecimal',\n",
       " 'isdigit',\n",
       " 'isidentifier',\n",
       " 'islower',\n",
       " 'isnumeric',\n",
       " 'isprintable',\n",
       " 'isspace',\n",
       " 'istitle',\n",
       " 'isupper',\n",
       " 'join',\n",
       " 'ljust',\n",
       " 'lower',\n",
       " 'lstrip',\n",
       " 'maketrans',\n",
       " 'partition',\n",
       " 'removeprefix',\n",
       " 'removesuffix',\n",
       " 'replace',\n",
       " 'rfind',\n",
       " 'rindex',\n",
       " 'rjust',\n",
       " 'rpartition',\n",
       " 'rsplit',\n",
       " 'rstrip',\n",
       " 'split',\n",
       " 'splitlines',\n",
       " 'startswith',\n",
       " 'strip',\n",
       " 'swapcase',\n",
       " 'title',\n",
       " 'translate',\n",
       " 'upper',\n",
       " 'zfill']"
      ]
     },
     "execution_count": 54,
     "metadata": {},
     "output_type": "execute_result"
    }
   ],
   "source": [
    "dir('list')"
   ]
  },
  {
   "cell_type": "code",
   "execution_count": 56,
   "id": "7246bc73-d2fd-45e8-a626-477d9fd17c0e",
   "metadata": {},
   "outputs": [
    {
     "name": "stdout",
     "output_type": "stream",
     "text": [
      "Sum:  15\n"
     ]
    }
   ],
   "source": [
    "a=[1,2,3,4,5]\n",
    "sum=0\n",
    "for i in a:\n",
    "    sum += i\n",
    "print(\"Sum: \",sum)"
   ]
  },
  {
   "cell_type": "code",
   "execution_count": 112,
   "id": "1e0f30ba-6f69-4c7b-a0fe-dbfaffae8f12",
   "metadata": {},
   "outputs": [
    {
     "name": "stdout",
     "output_type": "stream",
     "text": [
      "[45, 75, [[], 'Raman'], ['Raman']]\n"
     ]
    }
   ],
   "source": [
    "d=[45,75,[[]],[]]\n",
    "\n",
    "for i in d: \n",
    "    if type(i)==list:\n",
    "        i.append(\"Raman\")\n",
    "       # if len(i) !=0:\n",
    "        if type(i)==list:  \n",
    "                j.append(\"Raman\")\n",
    "        #i.append(\"Raman\")\n",
    "print(d)"
   ]
  },
  {
   "cell_type": "code",
   "execution_count": 118,
   "id": "2bdb5b1c-d514-4afc-bae2-f4be93399e6c",
   "metadata": {},
   "outputs": [
    {
     "name": "stdout",
     "output_type": "stream",
     "text": [
      "g :  7\n",
      "h :  8\n",
      "j :  10\n",
      "u :  21\n",
      "r :  18\n",
      "n :  14\n"
     ]
    }
   ],
   "source": [
    "str1='abcdefghijklmnopqrstuvwxyz'\n",
    "str = \"ghjurn\"\n",
    "\n",
    "for i in str:\n",
    "    if i in str1:\n",
    "        print( i,': ', str1.index(i)+1)\n"
   ]
  },
  {
   "cell_type": "code",
   "execution_count": 114,
   "id": "1cbf42aa-b520-436d-8ab2-cf0f502748c8",
   "metadata": {},
   "outputs": [
    {
     "name": "stdin",
     "output_type": "stream",
     "text": [
      "Enter the number:  2\n"
     ]
    },
    {
     "name": "stdout",
     "output_type": "stream",
     "text": [
      "2  X  1  =  2\n",
      "2  X  2  =  4\n",
      "2  X  3  =  6\n",
      "2  X  4  =  8\n",
      "2  X  5  =  10\n",
      "2  X  6  =  12\n",
      "2  X  7  =  14\n",
      "2  X  8  =  16\n",
      "2  X  9  =  18\n",
      "2  X  10  =  20\n"
     ]
    }
   ],
   "source": [
    "num=int(input(\"Enter the number: \"))\n",
    "\n",
    "for i in range(1,11):\n",
    "    print( num,' X ',i,' = ', i*num)\n",
    "\n",
    "    "
   ]
  },
  {
   "cell_type": "code",
   "execution_count": null,
   "id": "eb2377a0-1e4b-4e05-8984-67898bdbe373",
   "metadata": {},
   "outputs": [],
   "source": [
    "print(\"\\tCALCULATOR\")\n",
    "\n",
    "num1=int(input(\"Enter 1st number:\"))\n",
    "num2=int(input(\"Enter 2nd number:\"))\n",
    "print(\"Addition: +\\nSubtraction: -\\nMultiplication: *\\nDivision: /\")\n",
    "op= input(\"Enter the operator: \")\n",
    "\n",
    "if(op == '+'):\n",
    "    print(\"Answer: \",num1 +num2)\n",
    "elif(op == '-'):\n",
    "    print(\"Answer: \",num1 - num2)\n",
    "elif(op == '*'):\n",
    "    print(\"Answer: \",num1 * num2)\n",
    "elif(op == '/'):\n",
    "    if(num2==0):\n",
    "        print(\"Cannot divide by 0\")\n",
    "    else:\n",
    "        print(\"Answer: \",num1 / num2)\n",
    "else:\n",
    "    print(\"Invalid Operator\")"
   ]
  },
  {
   "cell_type": "code",
   "execution_count": null,
   "id": "6c36d945-f86b-4345-8a8f-4f29646d58a7",
   "metadata": {},
   "outputs": [],
   "source": [
    "amt = 10000\n",
    "pin=1234\n",
    "print(\"\\t\\t\\t\\t\\t\\t\\t Welcome To AXIS Bank\")\n",
    "\n",
    "if 'card' == input(\"Insert your card: \") :\n",
    "    print(\"Welcome \")\n",
    "    if pin== int(input(\"Enter your pin: \")):\n",
    "        print(\"1. Check Balance \\n 2. Cash Withdraw \\n 3. Deposit Cash\")\n",
    "        if 1==int(input(\"Enter Option: \")):\n",
    "            print(\"Your Bank Balance is: \",amt)\n",
    "        elif 2==int(input(\"Enter Option: \")):\n",
    "            wtd = int(input(\"Enter the amount you want to withdraw: \"))\n",
    "            print(\" Amount Withdrwan! \\n Your current balance is:\",amt-wtd)\n",
    "        elif 3==int(input(\"Enter Option: \")):\n",
    "            dpt = int(input(\"Enter the amount you want to deposit: \"))\n",
    "            print(\"Amount Deposited! \\n Your current balance is:\",amt+dpt)\n",
    "        else:\n",
    "            print(\"Invalid Option\")\n",
    "    else:\n",
    "        print(\"Invalid pin\")\n",
    "else:\n",
    "    print(\"Invalid Card\")"
   ]
  },
  {
   "cell_type": "code",
   "execution_count": null,
   "id": "14823f1d-3bda-41d3-bc60-df2cfbc5c592",
   "metadata": {},
   "outputs": [],
   "source": []
  }
 ],
 "metadata": {
  "kernelspec": {
   "display_name": "Python 3 (ipykernel)",
   "language": "python",
   "name": "python3"
  },
  "language_info": {
   "codemirror_mode": {
    "name": "ipython",
    "version": 3
   },
   "file_extension": ".py",
   "mimetype": "text/x-python",
   "name": "python",
   "nbconvert_exporter": "python",
   "pygments_lexer": "ipython3",
   "version": "3.12.4"
  }
 },
 "nbformat": 4,
 "nbformat_minor": 5
}
