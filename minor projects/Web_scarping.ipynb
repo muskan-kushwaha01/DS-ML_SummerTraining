{
  "nbformat": 4,
  "nbformat_minor": 0,
  "metadata": {
    "colab": {
      "provenance": [],
      "authorship_tag": "ABX9TyP46VD+NdMQpbWTR5slei/g",
      "include_colab_link": true
    },
    "kernelspec": {
      "name": "python3",
      "display_name": "Python 3"
    },
    "language_info": {
      "name": "python"
    }
  },
  "cells": [
    {
      "cell_type": "markdown",
      "metadata": {
        "id": "view-in-github",
        "colab_type": "text"
      },
      "source": [
        "<a href=\"https://colab.research.google.com/github/muskan-kushwaha01/Day2Assignment/blob/main/Web_scarping.ipynb\" target=\"_parent\"><img src=\"https://colab.research.google.com/assets/colab-badge.svg\" alt=\"Open In Colab\"/></a>"
      ]
    },
    {
      "cell_type": "code",
      "execution_count": 1,
      "metadata": {
        "id": "JFJ_NS4luwPF"
      },
      "outputs": [],
      "source": [
        "import pandas as pd\n",
        "import requests as r\n",
        "from bs4 import BeautifulSoup"
      ]
    },
    {
      "cell_type": "code",
      "source": [
        "raman=r.get('https://www.amazon.com/s?k=frighe&i=specialty-aps&srs=6563140011&crid=3R882KRC5HF5W&sprefix=fligh%2Cspecialty-aps%2C477&ref=nb_sb_noss_2').text\n",
        "print(raman)"
      ],
      "metadata": {
        "colab": {
          "base_uri": "https://localhost:8080/"
        },
        "id": "aBQpDcRau1Ru",
        "outputId": "fe362802-fec1-40a8-e3f1-b0239d009831"
      },
      "execution_count": 10,
      "outputs": [
        {
          "output_type": "stream",
          "name": "stdout",
          "text": [
            "<!--\n",
            "        To discuss automated access to Amazon data please contact api-services-support@amazon.com.\n",
            "        For information about migrating to our APIs refer to our Marketplace APIs at https://developer.amazonservices.com/ref=rm_5_sv, or our Product Advertising API at https://affiliate-program.amazon.com/gp/advertising/api/detail/main.html/ref=rm_5_ac for advertising use cases.\n",
            "-->\n",
            "<!doctype html>\n",
            "<html>\n",
            "<head>\n",
            "  <meta charset=\"utf-8\">\n",
            "  <meta http-equiv=\"x-ua-compatible\" content=\"ie=edge\">\n",
            "  <meta name=\"viewport\" content=\"width=device-width, initial-scale=1, shrink-to-fit=no\">\n",
            "  <title>Sorry! Something went wrong!</title>\n",
            "  <style>\n",
            "  html, body {\n",
            "    padding: 0;\n",
            "    margin: 0\n",
            "  }\n",
            "\n",
            "  img {\n",
            "    border: 0\n",
            "  }\n",
            "\n",
            "  #a {\n",
            "    background: #232f3e;\n",
            "    padding: 11px 11px 11px 192px\n",
            "  }\n",
            "\n",
            "  #b {\n",
            "    position: absolute;\n",
            "    left: 22px;\n",
            "    top: 12px\n",
            "  }\n",
            "\n",
            "  #c {\n",
            "    position: relative;\n",
            "    max-width: 800px;\n",
            "    padding: 0 40px 0 0\n",
            "  }\n",
            "\n",
            "  #e, #f {\n",
            "    height: 35px;\n",
            "    border: 0;\n",
            "    font-size: 1em\n",
            "  }\n",
            "\n",
            "  #e {\n",
            "    width: 100%;\n",
            "    margin: 0;\n",
            "    padding: 0 10px;\n",
            "    border-radius: 4px 0 0 4px\n",
            "  }\n",
            "\n",
            "  #f {\n",
            "    cursor: pointer;\n",
            "    background: #febd69;\n",
            "    font-weight: bold;\n",
            "    border-radius: 0 4px 4px 0;\n",
            "    -webkit-appearance: none;\n",
            "    position: absolute;\n",
            "    top: 0;\n",
            "    right: 0;\n",
            "    padding: 0 12px\n",
            "  }\n",
            "\n",
            "  @media (max-width: 500px) {\n",
            "    #a {\n",
            "      padding: 55px 10px 10px\n",
            "    }\n",
            "\n",
            "    #b {\n",
            "      left: 6px\n",
            "    }\n",
            "  }\n",
            "\n",
            "  #g {\n",
            "    text-align: center;\n",
            "    margin: 30px 0\n",
            "  }\n",
            "\n",
            "  #g img {\n",
            "    max-width: 90%\n",
            "  }\n",
            "\n",
            "  #d {\n",
            "    display: none\n",
            "  }\n",
            "\n",
            "  #d[src] {\n",
            "    display: inline\n",
            "  }\n",
            "  </style>\n",
            "</head>\n",
            "<body>\n",
            "    <a href=\"/ref=cs_503_logo\"><img id=\"b\" src=\"https://images-na.ssl-images-amazon.com/images/G/01/error/logo._TTD_.png\" alt=\"Amazon.com\"></a>\n",
            "    <form id=\"a\" accept-charset=\"utf-8\" action=\"/s\" method=\"GET\" role=\"search\">\n",
            "        <div id=\"c\">\n",
            "            <input id=\"e\" name=\"field-keywords\" placeholder=\"Search\">\n",
            "            <input name=\"ref\" type=\"hidden\" value=\"cs_503_search\">\n",
            "            <input id=\"f\" type=\"submit\" value=\"Go\">\n",
            "        </div>\n",
            "    </form>\n",
            "<div id=\"g\">\n",
            "  <div><a href=\"/ref=cs_503_link\"><img src=\"https://images-na.ssl-images-amazon.com/images/G/01/error/500_503.png\"\n",
            "                                        alt=\"Sorry! Something went wrong on our end. Please go back and try again or go to Amazon's home page.\"></a>\n",
            "  </div>\n",
            "  <a href=\"/dogsofamazon/ref=cs_503_d\" target=\"_blank\" rel=\"noopener noreferrer\"><img id=\"d\" alt=\"Dogs of Amazon\"></a>\n",
            "  <script>document.getElementById(\"d\").src = \"https://images-na.ssl-images-amazon.com/images/G/01/error/\" + (Math.floor(Math.random() * 43) + 1) + \"._TTD_.jpg\";</script>\n",
            "</div>\n",
            "</body>\n",
            "</html>\n",
            "\n"
          ]
        }
      ]
    },
    {
      "cell_type": "code",
      "source": [
        "v = BeautifulSoup(raman,'html.parser')\n",
        "y = v.find_all(\"title\")\n",
        "adding_a_tag = []\n",
        "for i in y:\n",
        "  print (i.text)"
      ],
      "metadata": {
        "colab": {
          "base_uri": "https://localhost:8080/"
        },
        "id": "qWWS8CTNyDG8",
        "outputId": "2e93da16-d663-4db5-f568-48d4f843c218"
      },
      "execution_count": 12,
      "outputs": [
        {
          "output_type": "stream",
          "name": "stdout",
          "text": [
            "Sorry! Something went wrong!\n"
          ]
        }
      ]
    },
    {
      "cell_type": "code",
      "source": [],
      "metadata": {
        "id": "meiTFerRya0X"
      },
      "execution_count": null,
      "outputs": []
    }
  ]
}